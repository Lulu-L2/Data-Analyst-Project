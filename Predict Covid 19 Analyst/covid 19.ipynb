{
 "cells": [
  {
   "cell_type": "markdown",
   "id": "7903ff9d",
   "metadata": {},
   "source": [
    "# Prediksi Pertumbuhan Pasien Covid 19 Dengan Metode Lagrange"
   ]
  },
  {
   "cell_type": "markdown",
   "id": "d058c153",
   "metadata": {},
   "source": [
    "## Hasil yang ingin dicapai:\n",
    "Memprediksi pertumbuhan pasien covid 19 hingga bulan ke 8 atau bulan Agustus"
   ]
  },
  {
   "cell_type": "markdown",
   "id": "f21c6bf8",
   "metadata": {},
   "source": [
    "## import semua library yangdiperlukan"
   ]
  },
  {
   "cell_type": "code",
   "execution_count": 1,
   "id": "9cc304ae",
   "metadata": {},
   "outputs": [],
   "source": [
    "import numpy as np\n",
    "import pandas as pd\n",
    "import matplotlib.pyplot as plt\n",
    "import seaborn as sns"
   ]
  },
  {
   "cell_type": "markdown",
   "id": "b2708bab",
   "metadata": {},
   "source": [
    "### mengimport dan menampilkan data"
   ]
  },
  {
   "cell_type": "code",
   "execution_count": 2,
   "id": "f9ef1eec",
   "metadata": {},
   "outputs": [],
   "source": [
    "df = pd.read_excel('Covid19-Sumsel.xlsx')"
   ]
  },
  {
   "cell_type": "code",
   "execution_count": 3,
   "id": "5a655645",
   "metadata": {
    "scrolled": true
   },
   "outputs": [
    {
     "data": {
      "text/html": [
       "<div>\n",
       "<style scoped>\n",
       "    .dataframe tbody tr th:only-of-type {\n",
       "        vertical-align: middle;\n",
       "    }\n",
       "\n",
       "    .dataframe tbody tr th {\n",
       "        vertical-align: top;\n",
       "    }\n",
       "\n",
       "    .dataframe thead th {\n",
       "        text-align: right;\n",
       "    }\n",
       "</style>\n",
       "<table border=\"1\" class=\"dataframe\">\n",
       "  <thead>\n",
       "    <tr style=\"text-align: right;\">\n",
       "      <th></th>\n",
       "      <th>Hari</th>\n",
       "      <th>Tanggal</th>\n",
       "      <th>Positif</th>\n",
       "      <th>Sembuh</th>\n",
       "      <th>Meninggal</th>\n",
       "    </tr>\n",
       "  </thead>\n",
       "  <tbody>\n",
       "    <tr>\n",
       "      <th>0</th>\n",
       "      <td>1</td>\n",
       "      <td>2020-03-24</td>\n",
       "      <td>1</td>\n",
       "      <td>0</td>\n",
       "      <td>0</td>\n",
       "    </tr>\n",
       "    <tr>\n",
       "      <th>1</th>\n",
       "      <td>2</td>\n",
       "      <td>2020-03-25</td>\n",
       "      <td>0</td>\n",
       "      <td>0</td>\n",
       "      <td>1</td>\n",
       "    </tr>\n",
       "    <tr>\n",
       "      <th>2</th>\n",
       "      <td>3</td>\n",
       "      <td>2020-03-26</td>\n",
       "      <td>0</td>\n",
       "      <td>0</td>\n",
       "      <td>0</td>\n",
       "    </tr>\n",
       "    <tr>\n",
       "      <th>3</th>\n",
       "      <td>4</td>\n",
       "      <td>2020-03-27</td>\n",
       "      <td>0</td>\n",
       "      <td>0</td>\n",
       "      <td>0</td>\n",
       "    </tr>\n",
       "    <tr>\n",
       "      <th>4</th>\n",
       "      <td>5</td>\n",
       "      <td>2020-03-28</td>\n",
       "      <td>1</td>\n",
       "      <td>0</td>\n",
       "      <td>0</td>\n",
       "    </tr>\n",
       "  </tbody>\n",
       "</table>\n",
       "</div>"
      ],
      "text/plain": [
       "   Hari    Tanggal  Positif  Sembuh   Meninggal\n",
       "0     1 2020-03-24        1        0          0\n",
       "1     2 2020-03-25        0        0          1\n",
       "2     3 2020-03-26        0        0          0\n",
       "3     4 2020-03-27        0        0          0\n",
       "4     5 2020-03-28        1        0          0"
      ]
     },
     "execution_count": 3,
     "metadata": {},
     "output_type": "execute_result"
    }
   ],
   "source": [
    "df.head()"
   ]
  },
  {
   "cell_type": "code",
   "execution_count": 4,
   "id": "846a0aae",
   "metadata": {
    "scrolled": false
   },
   "outputs": [
    {
     "name": "stdout",
     "output_type": "stream",
     "text": [
      "<class 'pandas.core.frame.DataFrame'>\n",
      "RangeIndex: 69 entries, 0 to 68\n",
      "Data columns (total 5 columns):\n",
      " #   Column     Non-Null Count  Dtype         \n",
      "---  ------     --------------  -----         \n",
      " 0   Hari       69 non-null     int64         \n",
      " 1   Tanggal    69 non-null     datetime64[ns]\n",
      " 2   Positif    69 non-null     int64         \n",
      " 3   Sembuh     69 non-null     int64         \n",
      " 4   Meninggal  69 non-null     int64         \n",
      "dtypes: datetime64[ns](1), int64(4)\n",
      "memory usage: 2.8 KB\n"
     ]
    }
   ],
   "source": [
    "df.info()"
   ]
  },
  {
   "cell_type": "code",
   "execution_count": 5,
   "id": "929b05b1",
   "metadata": {},
   "outputs": [
    {
     "data": {
      "text/plain": [
       "Index(['Hari', 'Tanggal', 'Positif', 'Sembuh ', 'Meninggal'], dtype='object')"
      ]
     },
     "execution_count": 5,
     "metadata": {},
     "output_type": "execute_result"
    }
   ],
   "source": [
    "df.keys()"
   ]
  },
  {
   "cell_type": "markdown",
   "id": "8ceeafe4",
   "metadata": {},
   "source": [
    "## ada kesalahan pada kolum  Sembuh, terdapat 1 white space kosong"
   ]
  },
  {
   "cell_type": "markdown",
   "id": "890ca1bb",
   "metadata": {},
   "source": [
    "### memperbaiki kolom sembuh"
   ]
  },
  {
   "cell_type": "code",
   "execution_count": 6,
   "id": "f5b5a6a6",
   "metadata": {},
   "outputs": [],
   "source": [
    "df.rename(columns=({'Sembuh ':'Sembuh'}),inplace=True)"
   ]
  },
  {
   "cell_type": "code",
   "execution_count": 7,
   "id": "db8d797e",
   "metadata": {},
   "outputs": [
    {
     "data": {
      "text/plain": [
       "Index(['Hari', 'Tanggal', 'Positif', 'Sembuh', 'Meninggal'], dtype='object')"
      ]
     },
     "execution_count": 7,
     "metadata": {},
     "output_type": "execute_result"
    }
   ],
   "source": [
    "df.keys()"
   ]
  },
  {
   "cell_type": "markdown",
   "id": "66b93059",
   "metadata": {},
   "source": [
    "## melihat apakah ada missing value"
   ]
  },
  {
   "cell_type": "code",
   "execution_count": 8,
   "id": "520f193c",
   "metadata": {
    "scrolled": false
   },
   "outputs": [
    {
     "data": {
      "text/plain": [
       "Hari         0\n",
       "Tanggal      0\n",
       "Positif      0\n",
       "Sembuh       0\n",
       "Meninggal    0\n",
       "dtype: int64"
      ]
     },
     "execution_count": 8,
     "metadata": {},
     "output_type": "execute_result"
    }
   ],
   "source": [
    "df.isnull().sum()"
   ]
  },
  {
   "cell_type": "markdown",
   "id": "77ad678e",
   "metadata": {},
   "source": [
    " tidak ada missing value"
   ]
  },
  {
   "cell_type": "markdown",
   "id": "b1d2edaa",
   "metadata": {},
   "source": [
    "## membuat kolom baru untuk menampung data berdasarkan bulan"
   ]
  },
  {
   "cell_type": "markdown",
   "id": "93533869",
   "metadata": {},
   "source": [
    "mengubah format tanggal menjadi string untuk memudahkan pengambilan data bulan"
   ]
  },
  {
   "cell_type": "code",
   "execution_count": 9,
   "id": "bc1dfcf1",
   "metadata": {},
   "outputs": [],
   "source": [
    "df['Tanggal']=df['Tanggal'].astype(str)"
   ]
  },
  {
   "cell_type": "markdown",
   "id": "e1b5ea56",
   "metadata": {},
   "source": [
    "### membuat kolom bulan untuk menampung data bulan"
   ]
  },
  {
   "cell_type": "code",
   "execution_count": 10,
   "id": "df2e9304",
   "metadata": {},
   "outputs": [],
   "source": [
    "df['Bulan']=df['Tanggal'].apply(lambda bulan:bulan.split('-')[1][1])"
   ]
  },
  {
   "cell_type": "markdown",
   "id": "a86f6246",
   "metadata": {},
   "source": [
    "mengubah tipe data pada bulan menjadi int"
   ]
  },
  {
   "cell_type": "code",
   "execution_count": 11,
   "id": "5428939d",
   "metadata": {
    "scrolled": true
   },
   "outputs": [
    {
     "data": {
      "text/plain": [
       "0     3\n",
       "1     3\n",
       "2     3\n",
       "3     3\n",
       "4     3\n",
       "     ..\n",
       "64    5\n",
       "65    5\n",
       "66    5\n",
       "67    5\n",
       "68    5\n",
       "Name: Bulan, Length: 69, dtype: int32"
      ]
     },
     "execution_count": 11,
     "metadata": {},
     "output_type": "execute_result"
    }
   ],
   "source": [
    "df['Bulan'].astype(int)"
   ]
  },
  {
   "cell_type": "code",
   "execution_count": 12,
   "id": "7d07f587",
   "metadata": {
    "scrolled": true
   },
   "outputs": [],
   "source": [
    "Maret=df[df['Bulan']=='3'][['Positif','Sembuh','Meninggal']].sum()\n",
    "April=df[df['Bulan']=='4'][['Positif','Sembuh','Meninggal']].sum()\n",
    "Mei=df[df['Bulan']=='5'][['Positif','Sembuh','Meninggal']].sum()"
   ]
  },
  {
   "cell_type": "code",
   "execution_count": 13,
   "id": "221845e8",
   "metadata": {},
   "outputs": [],
   "source": [
    "bulan=['Maret','April','Mei']"
   ]
  },
  {
   "cell_type": "code",
   "execution_count": 14,
   "id": "81845d88",
   "metadata": {
    "scrolled": true
   },
   "outputs": [],
   "source": [
    "Data=pd.DataFrame([Maret,April,Mei],index=bulan)"
   ]
  },
  {
   "cell_type": "code",
   "execution_count": 15,
   "id": "84504f96",
   "metadata": {},
   "outputs": [
    {
     "data": {
      "text/html": [
       "<div>\n",
       "<style scoped>\n",
       "    .dataframe tbody tr th:only-of-type {\n",
       "        vertical-align: middle;\n",
       "    }\n",
       "\n",
       "    .dataframe tbody tr th {\n",
       "        vertical-align: top;\n",
       "    }\n",
       "\n",
       "    .dataframe thead th {\n",
       "        text-align: right;\n",
       "    }\n",
       "</style>\n",
       "<table border=\"1\" class=\"dataframe\">\n",
       "  <thead>\n",
       "    <tr style=\"text-align: right;\">\n",
       "      <th></th>\n",
       "      <th>Positif</th>\n",
       "      <th>Sembuh</th>\n",
       "      <th>Meninggal</th>\n",
       "    </tr>\n",
       "  </thead>\n",
       "  <tbody>\n",
       "    <tr>\n",
       "      <th>Maret</th>\n",
       "      <td>5</td>\n",
       "      <td>0</td>\n",
       "      <td>2</td>\n",
       "    </tr>\n",
       "    <tr>\n",
       "      <th>April</th>\n",
       "      <td>145</td>\n",
       "      <td>23</td>\n",
       "      <td>1</td>\n",
       "    </tr>\n",
       "    <tr>\n",
       "      <th>Mei</th>\n",
       "      <td>832</td>\n",
       "      <td>180</td>\n",
       "      <td>31</td>\n",
       "    </tr>\n",
       "  </tbody>\n",
       "</table>\n",
       "</div>"
      ],
      "text/plain": [
       "       Positif  Sembuh  Meninggal\n",
       "Maret        5       0          2\n",
       "April      145      23          1\n",
       "Mei        832     180         31"
      ]
     },
     "execution_count": 15,
     "metadata": {},
     "output_type": "execute_result"
    }
   ],
   "source": [
    "Data"
   ]
  },
  {
   "cell_type": "code",
   "execution_count": 16,
   "id": "9f294854",
   "metadata": {
    "scrolled": false
   },
   "outputs": [
    {
     "data": {
      "image/png": "[encoded data removed]",
      "text/plain": [
       "<Figure size 432x288 with 1 Axes>"
      ]
     },
     "metadata": {
      "needs_background": "light"
     },
     "output_type": "display_data"
    }
   ],
   "source": [
    "Data.plot('Positif',kind='bar');"
   ]
  },
  {
   "cell_type": "markdown",
   "id": "60df28f0",
   "metadata": {},
   "source": [
    "## membuat fungsi lagrange untuk memprediksi jumlah pasien bulan 6,7,dan 8"
   ]
  },
  {
   "cell_type": "code",
   "execution_count": 17,
   "id": "f75e40fe",
   "metadata": {},
   "outputs": [],
   "source": [
    "def lagrange(bulan,pasien,prediksi):\n",
    "    m = len(bulan)\n",
    "    n = m - 1\n",
    "\n",
    "    prediksi\n",
    "    hasil_prediksi=0\n",
    "\n",
    "    for i in range(n+1):\n",
    "        polinom = 1\n",
    "        for j in range(n+1):\n",
    "            if j != i:\n",
    "                polinom *= (prediksi - bulan[j]) / (bulan[i] - bulan[j])\n",
    "        hasil_prediksi +=pasien[i]*polinom\n",
    "\n",
    "    print(f'pada bulan ke-{int(prediksi)}\\njumlah pasien adalah:{int(hasil_prediksi)}')"
   ]
  },
  {
   "cell_type": "code",
   "execution_count": 18,
   "id": "761ba733",
   "metadata": {},
   "outputs": [
    {
     "data": {
      "text/html": [
       "<div>\n",
       "<style scoped>\n",
       "    .dataframe tbody tr th:only-of-type {\n",
       "        vertical-align: middle;\n",
       "    }\n",
       "\n",
       "    .dataframe tbody tr th {\n",
       "        vertical-align: top;\n",
       "    }\n",
       "\n",
       "    .dataframe thead th {\n",
       "        text-align: right;\n",
       "    }\n",
       "</style>\n",
       "<table border=\"1\" class=\"dataframe\">\n",
       "  <thead>\n",
       "    <tr style=\"text-align: right;\">\n",
       "      <th></th>\n",
       "      <th>Positif</th>\n",
       "      <th>Sembuh</th>\n",
       "      <th>Meninggal</th>\n",
       "    </tr>\n",
       "  </thead>\n",
       "  <tbody>\n",
       "    <tr>\n",
       "      <th>Maret</th>\n",
       "      <td>5</td>\n",
       "      <td>0</td>\n",
       "      <td>2</td>\n",
       "    </tr>\n",
       "    <tr>\n",
       "      <th>April</th>\n",
       "      <td>145</td>\n",
       "      <td>23</td>\n",
       "      <td>1</td>\n",
       "    </tr>\n",
       "    <tr>\n",
       "      <th>Mei</th>\n",
       "      <td>832</td>\n",
       "      <td>180</td>\n",
       "      <td>31</td>\n",
       "    </tr>\n",
       "  </tbody>\n",
       "</table>\n",
       "</div>"
      ],
      "text/plain": [
       "       Positif  Sembuh  Meninggal\n",
       "Maret        5       0          2\n",
       "April      145      23          1\n",
       "Mei        832     180         31"
      ]
     },
     "execution_count": 18,
     "metadata": {},
     "output_type": "execute_result"
    }
   ],
   "source": [
    "Data"
   ]
  },
  {
   "cell_type": "markdown",
   "id": "d5b2cd45",
   "metadata": {},
   "source": [
    "# Memprediksi Pasien Positif"
   ]
  },
  {
   "cell_type": "code",
   "execution_count": 19,
   "id": "eedfa087",
   "metadata": {},
   "outputs": [
    {
     "data": {
      "text/plain": [
       "Maret      5\n",
       "April    145\n",
       "Mei      832\n",
       "Name: Positif, dtype: int64"
      ]
     },
     "execution_count": 19,
     "metadata": {},
     "output_type": "execute_result"
    }
   ],
   "source": [
    "Data['Positif']"
   ]
  },
  {
   "cell_type": "code",
   "execution_count": 20,
   "id": "4bc6efbf",
   "metadata": {
    "scrolled": true
   },
   "outputs": [
    {
     "name": "stdout",
     "output_type": "stream",
     "text": [
      "pada bulan ke-6\n",
      "jumlah pasien adalah:2066\n",
      "pada bulan ke-7\n",
      "jumlah pasien adalah:3847\n",
      "pada bulan ke-8\n",
      "jumlah pasien adalah:6175\n"
     ]
    }
   ],
   "source": [
    "# memprediksi bulan ke 6\n",
    "lagrange([3, 4, 5],[5, 145, 832],6),\n",
    "# memprediksi bulan ke 7\n",
    "lagrange([3, 4, 5],[5, 145, 832],7),\n",
    "# memprediksi bulan ke 8\n",
    "lagrange([3, 4, 5],[5, 145, 832],8)"
   ]
  },
  {
   "cell_type": "markdown",
   "id": "5440ae34",
   "metadata": {},
   "source": [
    "# Memprediksi Pasien Sembuh"
   ]
  },
  {
   "cell_type": "code",
   "execution_count": 21,
   "id": "6bf721c5",
   "metadata": {},
   "outputs": [
    {
     "data": {
      "text/plain": [
       "Maret      0\n",
       "April     23\n",
       "Mei      180\n",
       "Name: Sembuh, dtype: int64"
      ]
     },
     "execution_count": 21,
     "metadata": {},
     "output_type": "execute_result"
    }
   ],
   "source": [
    "Data['Sembuh']"
   ]
  },
  {
   "cell_type": "code",
   "execution_count": 22,
   "id": "14262910",
   "metadata": {},
   "outputs": [
    {
     "name": "stdout",
     "output_type": "stream",
     "text": [
      "pada bulan ke-6\n",
      "jumlah pasien adalah:471\n",
      "pada bulan ke-7\n",
      "jumlah pasien adalah:896\n",
      "pada bulan ke-8\n",
      "jumlah pasien adalah:1455\n"
     ]
    }
   ],
   "source": [
    "# memprediksi bulan ke 6\n",
    "lagrange([3, 4, 5],[0, 23, 180],6),\n",
    "# memprediksi bulan ke 7\n",
    "lagrange([3, 4, 5],[0, 23, 180],7),\n",
    "# memprediksi bulan ke 8\n",
    "lagrange([3, 4, 5],[0, 23, 180],8)"
   ]
  },
  {
   "cell_type": "markdown",
   "id": "5c37b6e0",
   "metadata": {},
   "source": [
    "# Memprediksi Pasien Meninggal"
   ]
  },
  {
   "cell_type": "code",
   "execution_count": 23,
   "id": "0fbad426",
   "metadata": {},
   "outputs": [
    {
     "data": {
      "text/plain": [
       "Maret     2\n",
       "April     1\n",
       "Mei      31\n",
       "Name: Meninggal, dtype: int64"
      ]
     },
     "execution_count": 23,
     "metadata": {},
     "output_type": "execute_result"
    }
   ],
   "source": [
    "Data['Meninggal']"
   ]
  },
  {
   "cell_type": "code",
   "execution_count": 24,
   "id": "8733f3ea",
   "metadata": {},
   "outputs": [
    {
     "name": "stdout",
     "output_type": "stream",
     "text": [
      "pada bulan ke-6\n",
      "jumlah pasien adalah:92\n",
      "pada bulan ke-7\n",
      "jumlah pasien adalah:184\n",
      "pada bulan ke-8\n",
      "jumlah pasien adalah:307\n"
     ]
    }
   ],
   "source": [
    "# memprediksi bulan ke 6\n",
    "lagrange([3, 4, 5],[2, 1, 31],6),\n",
    "# memprediksi bulan ke 7\n",
    "lagrange([3, 4, 5],[2, 1, 31],7),\n",
    "# memprediksi bulan ke 8\n",
    "lagrange([3, 4, 5],[2, 1, 31],8)"
   ]
  },
  {
   "cell_type": "markdown",
   "id": "9caaeaa0",
   "metadata": {},
   "source": [
    "# membuat data frame untuk memvisualisasikan"
   ]
  },
  {
   "cell_type": "code",
   "execution_count": 25,
   "id": "060a7d45",
   "metadata": {},
   "outputs": [],
   "source": [
    "Juni=[2066,471,92]\n",
    "Juli=[3847,896,184,]\n",
    "Agustus=[6175,1455,307]"
   ]
  },
  {
   "cell_type": "code",
   "execution_count": 26,
   "id": "25a0ed64",
   "metadata": {},
   "outputs": [],
   "source": [
    "Data_tambahan=pd.DataFrame(data=[Juni,Juli,Agustus],index=(['Juni','Juli','Agustus']),\n",
    "                           columns=(['Positif','Sembuh','Meninggal']))"
   ]
  },
  {
   "cell_type": "code",
   "execution_count": 27,
   "id": "d18a9181",
   "metadata": {
    "scrolled": true
   },
   "outputs": [
    {
     "data": {
      "text/html": [
       "<div>\n",
       "<style scoped>\n",
       "    .dataframe tbody tr th:only-of-type {\n",
       "        vertical-align: middle;\n",
       "    }\n",
       "\n",
       "    .dataframe tbody tr th {\n",
       "        vertical-align: top;\n",
       "    }\n",
       "\n",
       "    .dataframe thead th {\n",
       "        text-align: right;\n",
       "    }\n",
       "</style>\n",
       "<table border=\"1\" class=\"dataframe\">\n",
       "  <thead>\n",
       "    <tr style=\"text-align: right;\">\n",
       "      <th></th>\n",
       "      <th>Positif</th>\n",
       "      <th>Sembuh</th>\n",
       "      <th>Meninggal</th>\n",
       "    </tr>\n",
       "  </thead>\n",
       "  <tbody>\n",
       "    <tr>\n",
       "      <th>Juni</th>\n",
       "      <td>2066</td>\n",
       "      <td>471</td>\n",
       "      <td>92</td>\n",
       "    </tr>\n",
       "    <tr>\n",
       "      <th>Juli</th>\n",
       "      <td>3847</td>\n",
       "      <td>896</td>\n",
       "      <td>184</td>\n",
       "    </tr>\n",
       "    <tr>\n",
       "      <th>Agustus</th>\n",
       "      <td>6175</td>\n",
       "      <td>1455</td>\n",
       "      <td>307</td>\n",
       "    </tr>\n",
       "  </tbody>\n",
       "</table>\n",
       "</div>"
      ],
      "text/plain": [
       "         Positif  Sembuh  Meninggal\n",
       "Juni        2066     471         92\n",
       "Juli        3847     896        184\n",
       "Agustus     6175    1455        307"
      ]
     },
     "execution_count": 27,
     "metadata": {},
     "output_type": "execute_result"
    }
   ],
   "source": [
    "Data_tambahan"
   ]
  },
  {
   "cell_type": "code",
   "execution_count": 34,
   "id": "49d49496",
   "metadata": {},
   "outputs": [],
   "source": [
    "Data_baru=pd.concat([Data,Data_tambahan],axis=0)"
   ]
  },
  {
   "cell_type": "code",
   "execution_count": 35,
   "id": "4f633f09",
   "metadata": {},
   "outputs": [
    {
     "data": {
      "text/html": [
       "<div>\n",
       "<style scoped>\n",
       "    .dataframe tbody tr th:only-of-type {\n",
       "        vertical-align: middle;\n",
       "    }\n",
       "\n",
       "    .dataframe tbody tr th {\n",
       "        vertical-align: top;\n",
       "    }\n",
       "\n",
       "    .dataframe thead th {\n",
       "        text-align: right;\n",
       "    }\n",
       "</style>\n",
       "<table border=\"1\" class=\"dataframe\">\n",
       "  <thead>\n",
       "    <tr style=\"text-align: right;\">\n",
       "      <th></th>\n",
       "      <th>Positif</th>\n",
       "      <th>Sembuh</th>\n",
       "      <th>Meninggal</th>\n",
       "    </tr>\n",
       "  </thead>\n",
       "  <tbody>\n",
       "    <tr>\n",
       "      <th>Maret</th>\n",
       "      <td>5</td>\n",
       "      <td>0</td>\n",
       "      <td>2</td>\n",
       "    </tr>\n",
       "    <tr>\n",
       "      <th>April</th>\n",
       "      <td>145</td>\n",
       "      <td>23</td>\n",
       "      <td>1</td>\n",
       "    </tr>\n",
       "    <tr>\n",
       "      <th>Mei</th>\n",
       "      <td>832</td>\n",
       "      <td>180</td>\n",
       "      <td>31</td>\n",
       "    </tr>\n",
       "    <tr>\n",
       "      <th>Juni</th>\n",
       "      <td>2066</td>\n",
       "      <td>471</td>\n",
       "      <td>92</td>\n",
       "    </tr>\n",
       "    <tr>\n",
       "      <th>Juli</th>\n",
       "      <td>3847</td>\n",
       "      <td>896</td>\n",
       "      <td>184</td>\n",
       "    </tr>\n",
       "    <tr>\n",
       "      <th>Agustus</th>\n",
       "      <td>6175</td>\n",
       "      <td>1455</td>\n",
       "      <td>307</td>\n",
       "    </tr>\n",
       "  </tbody>\n",
       "</table>\n",
       "</div>"
      ],
      "text/plain": [
       "         Positif  Sembuh  Meninggal\n",
       "Maret          5       0          2\n",
       "April        145      23          1\n",
       "Mei          832     180         31\n",
       "Juni        2066     471         92\n",
       "Juli        3847     896        184\n",
       "Agustus     6175    1455        307"
      ]
     },
     "execution_count": 35,
     "metadata": {},
     "output_type": "execute_result"
    }
   ],
   "source": [
    "Data_baru"
   ]
  },
  {
   "cell_type": "markdown",
   "id": "a2c5075a",
   "metadata": {},
   "source": [
    "# Visualisasi Data"
   ]
  },
  {
   "cell_type": "code",
   "execution_count": 107,
   "id": "f3e7996e",
   "metadata": {
    "scrolled": false
   },
   "outputs": [
    {
     "data": {
      "image/png": "[encoded data removed]",
      "text/plain": [
       "<Figure size 1000x1000 with 2 Axes>"
      ]
     },
     "metadata": {},
     "output_type": "display_data"
    }
   ],
   "source": [
    "plt.style.use('seaborn-dark')\n",
    "fig,(ax,ax1) = plt.subplots(nrows=2,ncols=1,figsize=(10,10),dpi=100,sharex=True)\n",
    "\n",
    "ax=Data_baru.plot(ax=ax,kind='bar',cmap='Set1')\n",
    "for container in ax.containers:\n",
    "    ax.bar_label(container,fontweight='bold')\n",
    "for label in ax.get_xticklabels():\n",
    "    label.set(rotation=0)\n",
    "\n",
    "ax1=Data_baru.plot(ax=ax1,cmap='Set1',marker='o')\n",
    "    \n",
    "fig.suptitle('Predict The Growth of Covid 19 Patient From June-August With Lagrange\\n(Positive-Cured-Died)',fontweight='bold');\n",
    "plt.savefig('Predict Of Covid Patient Growth.png')"
   ]
  },
  {
   "cell_type": "code",
   "execution_count": null,
   "id": "4a2c5d00",
   "metadata": {},
   "outputs": [],
   "source": []
  },
  {
   "cell_type": "code",
   "execution_count": null,
   "id": "44db5f86",
   "metadata": {},
   "outputs": [],
   "source": []
  }
 ],
 "metadata": {
  "kernelspec": {
   "display_name": "Python 3 (ipykernel)",
   "language": "python",
   "name": "python3"
  },
  "language_info": {
   "codemirror_mode": {
    "name": "ipython",
    "version": 3
   },
   "file_extension": ".py",
   "mimetype": "text/x-python",
   "name": "python",
   "nbconvert_exporter": "python",
   "pygments_lexer": "ipython3",
   "version": "3.10.4"
  }
 },
 "nbformat": 4,
 "nbformat_minor": 5
}
